{
  "nbformat": 4,
  "nbformat_minor": 0,
  "metadata": {
    "colab": {
      "provenance": []
    },
    "kernelspec": {
      "name": "python3",
      "display_name": "Python 3"
    },
    "language_info": {
      "name": "python"
    }
  },
  "cells": [
    {
      "cell_type": "code",
      "execution_count": 4,
      "metadata": {
        "id": "bR0DpVYKuNeg",
        "colab": {
          "base_uri": "https://localhost:8080/"
        },
        "outputId": "508d2e5c-4271-4fcb-b0f6-7f7cb2475d2b"
      },
      "outputs": [
        {
          "output_type": "stream",
          "name": "stdout",
          "text": [
            "Enter secret message: hello\n",
            "Enter a passcode: 123\n",
            "Password for decryption: 123\n",
            "Decrypted message: hello\n"
          ]
        }
      ],
      "source": [
        "import cv2\n",
        "import os\n",
        "import subprocess  # For opening files on Mac\n",
        "\n",
        "# Load the image\n",
        "img = cv2.imread(\"flower.jpg\")\n",
        "\n",
        "# Get user input\n",
        "msg = input(\"Enter secret message: \")\n",
        "password = input(\"Enter a passcode: \")\n",
        "\n",
        "# ASCII Mapping\n",
        "d = {}\n",
        "c = {}\n",
        "\n",
        "for i in range(255):\n",
        "    d[chr(i)] = i\n",
        "    c[i] = chr(i)\n",
        "\n",
        "# Encryption\n",
        "n = 0\n",
        "m = 0\n",
        "z = 0\n",
        "\n",
        "for i in range(len(msg)):\n",
        "    img[n, m, z] = d[msg[i]]  # Embed message into pixels\n",
        "    n += 1\n",
        "    m += 1\n",
        "    z = (z + 1) % 3  # Change RGB channel\n",
        "\n",
        "# Save the encrypted image\n",
        "cv2.imwrite(\"encryptedImage.jpg\", img)\n",
        "\n",
        "# Open the image based on OS\n",
        "if os.name == \"nt\":  # Windows\n",
        "    os.startfile(\"encryptedImage.jpg\")\n",
        "else:  # Mac/Linux\n",
        "    subprocess.run([\"open\", \"encryptedImage.jpg\"])  # Mac (use \"xdg-open\" for Linux)\n",
        "\n",
        "# Decryption\n",
        "message = \"\"\n",
        "n = 0\n",
        "m = 0\n",
        "z = 0\n",
        "\n",
        "pas = input(\"Password for decryption: \")\n",
        "if pas == password:\n",
        "    for i in range(len(msg)):\n",
        "        message += c[img[n, m, z]]  # Extract message from pixels\n",
        "        n += 1\n",
        "        m += 1\n",
        "        z = (z + 1) % 3  # Change RGB channel\n",
        "\n",
        "    print(f\"Decrypted message: {message}\")\n",
        "else:\n",
        "    print(\"Wrong password\")\n"
      ]
    }
  ]
}